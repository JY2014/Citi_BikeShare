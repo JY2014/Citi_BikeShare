{
 "cells": [
  {
   "cell_type": "code",
   "execution_count": 2,
   "metadata": {
    "collapsed": true
   },
   "outputs": [],
   "source": [
    "import pandas as pd"
   ]
  },
  {
   "cell_type": "code",
   "execution_count": 20,
   "metadata": {
    "collapsed": false
   },
   "outputs": [],
   "source": [
    "data = pd.read_csv('data_partial_finished.txt', delimiter = '\\t')"
   ]
  },
  {
   "cell_type": "code",
   "execution_count": 21,
   "metadata": {
    "collapsed": false
   },
   "outputs": [
    {
     "data": {
      "text/html": [
       "<div>\n",
       "<table border=\"1\" class=\"dataframe\">\n",
       "  <thead>\n",
       "    <tr style=\"text-align: right;\">\n",
       "      <th></th>\n",
       "      <th>tripduration</th>\n",
       "      <th>starttime</th>\n",
       "      <th>stoptime</th>\n",
       "      <th>start.station.id</th>\n",
       "      <th>start.station.name</th>\n",
       "      <th>start.station.latitude</th>\n",
       "      <th>start.station.longitude</th>\n",
       "      <th>end.station.id</th>\n",
       "      <th>end.station.name</th>\n",
       "      <th>end.station.latitude</th>\n",
       "      <th>end.station.longitude</th>\n",
       "      <th>bikeid</th>\n",
       "      <th>usertype</th>\n",
       "      <th>birth.year</th>\n",
       "      <th>gender</th>\n",
       "      <th>start_neighborhood</th>\n",
       "      <th>start_borough</th>\n",
       "      <th>end_neighborhood</th>\n",
       "      <th>end_borough</th>\n",
       "    </tr>\n",
       "  </thead>\n",
       "  <tbody>\n",
       "    <tr>\n",
       "      <th>3</th>\n",
       "      <td>191</td>\n",
       "      <td>7/1/2016 00:00:19</td>\n",
       "      <td>7/1/2016 00:03:31</td>\n",
       "      <td>3090</td>\n",
       "      <td>N 8 St &amp; Driggs Ave</td>\n",
       "      <td>40.71775</td>\n",
       "      <td>-73.95600</td>\n",
       "      <td>3107</td>\n",
       "      <td>Bedford Ave &amp; Nassau Ave</td>\n",
       "      <td>40.72312</td>\n",
       "      <td>-73.95212</td>\n",
       "      <td>16345</td>\n",
       "      <td>Subscriber</td>\n",
       "      <td>1986.0</td>\n",
       "      <td>2</td>\n",
       "      <td>Greenpoint</td>\n",
       "      <td>Brooklyn</td>\n",
       "      <td>Greenpoint</td>\n",
       "      <td>Brooklyn</td>\n",
       "    </tr>\n",
       "    <tr>\n",
       "      <th>4</th>\n",
       "      <td>687</td>\n",
       "      <td>7/1/2016 00:00:24</td>\n",
       "      <td>7/1/2016 00:11:52</td>\n",
       "      <td>459</td>\n",
       "      <td>W 20 St &amp; 11 Ave</td>\n",
       "      <td>40.74674</td>\n",
       "      <td>-74.00776</td>\n",
       "      <td>347</td>\n",
       "      <td>Greenwich St &amp; W Houston St</td>\n",
       "      <td>40.72885</td>\n",
       "      <td>-74.00859</td>\n",
       "      <td>25210</td>\n",
       "      <td>Customer</td>\n",
       "      <td>NaN</td>\n",
       "      <td>0</td>\n",
       "      <td>Chelsea and Clinton</td>\n",
       "      <td>Manhattan</td>\n",
       "      <td>Greenwich Village and Soho</td>\n",
       "      <td>Manhattan</td>\n",
       "    </tr>\n",
       "    <tr>\n",
       "      <th>5</th>\n",
       "      <td>609</td>\n",
       "      <td>7/1/2016 00:00:31</td>\n",
       "      <td>7/1/2016 00:10:40</td>\n",
       "      <td>284</td>\n",
       "      <td>Greenwich Ave &amp; 8 Ave</td>\n",
       "      <td>40.73902</td>\n",
       "      <td>-74.00264</td>\n",
       "      <td>212</td>\n",
       "      <td>W 16 St &amp; The High Line</td>\n",
       "      <td>40.74335</td>\n",
       "      <td>-74.00682</td>\n",
       "      <td>15514</td>\n",
       "      <td>Customer</td>\n",
       "      <td>NaN</td>\n",
       "      <td>0</td>\n",
       "      <td>Greenwich Village and Soho</td>\n",
       "      <td>Manhattan</td>\n",
       "      <td>Chelsea and Clinton</td>\n",
       "      <td>Manhattan</td>\n",
       "    </tr>\n",
       "    <tr>\n",
       "      <th>6</th>\n",
       "      <td>672</td>\n",
       "      <td>7/1/2016 00:00:45</td>\n",
       "      <td>7/1/2016 00:11:57</td>\n",
       "      <td>459</td>\n",
       "      <td>W 20 St &amp; 11 Ave</td>\n",
       "      <td>40.74674</td>\n",
       "      <td>-74.00776</td>\n",
       "      <td>347</td>\n",
       "      <td>Greenwich St &amp; W Houston St</td>\n",
       "      <td>40.72885</td>\n",
       "      <td>-74.00859</td>\n",
       "      <td>15444</td>\n",
       "      <td>Subscriber</td>\n",
       "      <td>1991.0</td>\n",
       "      <td>1</td>\n",
       "      <td>Chelsea and Clinton</td>\n",
       "      <td>Manhattan</td>\n",
       "      <td>Greenwich Village and Soho</td>\n",
       "      <td>Manhattan</td>\n",
       "    </tr>\n",
       "    <tr>\n",
       "      <th>7</th>\n",
       "      <td>466</td>\n",
       "      <td>7/1/2016 00:00:49</td>\n",
       "      <td>7/1/2016 00:08:35</td>\n",
       "      <td>128</td>\n",
       "      <td>MacDougal St &amp; Prince St</td>\n",
       "      <td>40.72710</td>\n",
       "      <td>-74.00297</td>\n",
       "      <td>250</td>\n",
       "      <td>Lafayette St &amp; Jersey St N</td>\n",
       "      <td>40.72456</td>\n",
       "      <td>-73.99565</td>\n",
       "      <td>14676</td>\n",
       "      <td>Subscriber</td>\n",
       "      <td>1989.0</td>\n",
       "      <td>1</td>\n",
       "      <td>Greenwich Village and Soho</td>\n",
       "      <td>Manhattan</td>\n",
       "      <td>Greenwich Village and Soho</td>\n",
       "      <td>Manhattan</td>\n",
       "    </tr>\n",
       "  </tbody>\n",
       "</table>\n",
       "</div>"
      ],
      "text/plain": [
       "   tripduration          starttime           stoptime  start.station.id  \\\n",
       "3           191  7/1/2016 00:00:19  7/1/2016 00:03:31              3090   \n",
       "4           687  7/1/2016 00:00:24  7/1/2016 00:11:52               459   \n",
       "5           609  7/1/2016 00:00:31  7/1/2016 00:10:40               284   \n",
       "6           672  7/1/2016 00:00:45  7/1/2016 00:11:57               459   \n",
       "7           466  7/1/2016 00:00:49  7/1/2016 00:08:35               128   \n",
       "\n",
       "         start.station.name  start.station.latitude  start.station.longitude  \\\n",
       "3       N 8 St & Driggs Ave                40.71775                -73.95600   \n",
       "4          W 20 St & 11 Ave                40.74674                -74.00776   \n",
       "5     Greenwich Ave & 8 Ave                40.73902                -74.00264   \n",
       "6          W 20 St & 11 Ave                40.74674                -74.00776   \n",
       "7  MacDougal St & Prince St                40.72710                -74.00297   \n",
       "\n",
       "   end.station.id             end.station.name  end.station.latitude  \\\n",
       "3            3107     Bedford Ave & Nassau Ave              40.72312   \n",
       "4             347  Greenwich St & W Houston St              40.72885   \n",
       "5             212      W 16 St & The High Line              40.74335   \n",
       "6             347  Greenwich St & W Houston St              40.72885   \n",
       "7             250   Lafayette St & Jersey St N              40.72456   \n",
       "\n",
       "   end.station.longitude  bikeid    usertype  birth.year  gender  \\\n",
       "3              -73.95212   16345  Subscriber      1986.0       2   \n",
       "4              -74.00859   25210    Customer         NaN       0   \n",
       "5              -74.00682   15514    Customer         NaN       0   \n",
       "6              -74.00859   15444  Subscriber      1991.0       1   \n",
       "7              -73.99565   14676  Subscriber      1989.0       1   \n",
       "\n",
       "           start_neighborhood start_borough            end_neighborhood  \\\n",
       "3                  Greenpoint      Brooklyn                  Greenpoint   \n",
       "4         Chelsea and Clinton     Manhattan  Greenwich Village and Soho   \n",
       "5  Greenwich Village and Soho     Manhattan         Chelsea and Clinton   \n",
       "6         Chelsea and Clinton     Manhattan  Greenwich Village and Soho   \n",
       "7  Greenwich Village and Soho     Manhattan  Greenwich Village and Soho   \n",
       "\n",
       "  end_borough  \n",
       "3    Brooklyn  \n",
       "4   Manhattan  \n",
       "5   Manhattan  \n",
       "6   Manhattan  \n",
       "7   Manhattan  "
      ]
     },
     "execution_count": 21,
     "metadata": {},
     "output_type": "execute_result"
    }
   ],
   "source": [
    "data.head()"
   ]
  },
  {
   "cell_type": "code",
   "execution_count": 5,
   "metadata": {
    "collapsed": true
   },
   "outputs": [],
   "source": [
    "data_new = data.values"
   ]
  },
  {
   "cell_type": "code",
   "execution_count": 16,
   "metadata": {
    "collapsed": false
   },
   "outputs": [
    {
     "data": {
      "text/plain": [
       "array([[191, '7/1/2016 00:00:19', '7/1/2016 00:03:31', ..., 'Brooklyn',\n",
       "        'Greenpoint', 'Brooklyn'],\n",
       "       [687, '7/1/2016 00:00:24', '7/1/2016 00:11:52', ..., 'Manhattan',\n",
       "        'Greenwich Village and Soho', 'Manhattan'],\n",
       "       [609, '7/1/2016 00:00:31', '7/1/2016 00:10:40', ..., 'Manhattan',\n",
       "        'Chelsea and Clinton', 'Manhattan'],\n",
       "       ..., \n",
       "       [552, '9/30/2016 23:59:27', '10/1/2016 00:08:40', ..., 'Brooklyn',\n",
       "        'Northwest Brooklyn', 'Brooklyn'],\n",
       "       [1117, '9/30/2016 23:59:28', '10/1/2016 00:18:06', ..., 'Brooklyn',\n",
       "        'Northwest Brooklyn', 'Brooklyn'],\n",
       "       [1107, '9/30/2016 23:59:51', '10/1/2016 00:18:18', ..., 'Brooklyn',\n",
       "        'Northwest Brooklyn', 'Brooklyn']], dtype=object)"
      ]
     },
     "execution_count": 16,
     "metadata": {},
     "output_type": "execute_result"
    }
   ],
   "source": [
    "data_new"
   ]
  },
  {
   "cell_type": "code",
   "execution_count": 7,
   "metadata": {
    "collapsed": false
   },
   "outputs": [
    {
     "data": {
      "text/plain": [
       "(4586616, 19)"
      ]
     },
     "execution_count": 7,
     "metadata": {},
     "output_type": "execute_result"
    }
   ],
   "source": [
    "data.shape"
   ]
  },
  {
   "cell_type": "code",
   "execution_count": 8,
   "metadata": {
    "collapsed": true
   },
   "outputs": [],
   "source": [
    "mapdata = pd.read_csv('address_map.txt', delimiter = '\\t')"
   ]
  },
  {
   "cell_type": "code",
   "execution_count": 9,
   "metadata": {
    "collapsed": false
   },
   "outputs": [
    {
     "data": {
      "text/html": [
       "<div>\n",
       "<table border=\"1\" class=\"dataframe\">\n",
       "  <thead>\n",
       "    <tr style=\"text-align: right;\">\n",
       "      <th></th>\n",
       "      <th>X</th>\n",
       "      <th>latitude</th>\n",
       "      <th>longitude</th>\n",
       "      <th>returned.address</th>\n",
       "      <th>zipcode</th>\n",
       "      <th>neighborhood</th>\n",
       "      <th>borough</th>\n",
       "    </tr>\n",
       "  </thead>\n",
       "  <tbody>\n",
       "    <tr>\n",
       "      <th>1</th>\n",
       "      <td>1</td>\n",
       "      <td>40.74674</td>\n",
       "      <td>-74.00776</td>\n",
       "      <td>550-598 W 20th St, New York, NY 10011, USA</td>\n",
       "      <td>10011</td>\n",
       "      <td>Chelsea and Clinton</td>\n",
       "      <td>Manhattan</td>\n",
       "    </tr>\n",
       "    <tr>\n",
       "      <th>2</th>\n",
       "      <td>2</td>\n",
       "      <td>40.73029</td>\n",
       "      <td>-73.99076</td>\n",
       "      <td>470 Lafayette St, New York, NY 10003, USA</td>\n",
       "      <td>10003</td>\n",
       "      <td>Lower East Side</td>\n",
       "      <td>Manhattan</td>\n",
       "    </tr>\n",
       "    <tr>\n",
       "      <th>3</th>\n",
       "      <td>3</td>\n",
       "      <td>40.71775</td>\n",
       "      <td>-73.95600</td>\n",
       "      <td>185-195 N 8th St, Brooklyn, NY 11211, USA</td>\n",
       "      <td>11211</td>\n",
       "      <td>Greenpoint</td>\n",
       "      <td>Brooklyn</td>\n",
       "    </tr>\n",
       "    <tr>\n",
       "      <th>4</th>\n",
       "      <td>4</td>\n",
       "      <td>40.73902</td>\n",
       "      <td>-74.00264</td>\n",
       "      <td>135-137 Greenwich Ave, New York, NY 10014, USA</td>\n",
       "      <td>10014</td>\n",
       "      <td>Greenwich Village and Soho</td>\n",
       "      <td>Manhattan</td>\n",
       "    </tr>\n",
       "    <tr>\n",
       "      <th>5</th>\n",
       "      <td>5</td>\n",
       "      <td>40.72710</td>\n",
       "      <td>-74.00297</td>\n",
       "      <td>27-39 Macdougal St, New York, NY 10012, USA</td>\n",
       "      <td>10012</td>\n",
       "      <td>Greenwich Village and Soho</td>\n",
       "      <td>Manhattan</td>\n",
       "    </tr>\n",
       "  </tbody>\n",
       "</table>\n",
       "</div>"
      ],
      "text/plain": [
       "   X  latitude  longitude                                returned.address  \\\n",
       "1  1  40.74674  -74.00776      550-598 W 20th St, New York, NY 10011, USA   \n",
       "2  2  40.73029  -73.99076       470 Lafayette St, New York, NY 10003, USA   \n",
       "3  3  40.71775  -73.95600       185-195 N 8th St, Brooklyn, NY 11211, USA   \n",
       "4  4  40.73902  -74.00264  135-137 Greenwich Ave, New York, NY 10014, USA   \n",
       "5  5  40.72710  -74.00297     27-39 Macdougal St, New York, NY 10012, USA   \n",
       "\n",
       "   zipcode                neighborhood    borough  \n",
       "1    10011         Chelsea and Clinton  Manhattan  \n",
       "2    10003             Lower East Side  Manhattan  \n",
       "3    11211                  Greenpoint   Brooklyn  \n",
       "4    10014  Greenwich Village and Soho  Manhattan  \n",
       "5    10012  Greenwich Village and Soho  Manhattan  "
      ]
     },
     "execution_count": 9,
     "metadata": {},
     "output_type": "execute_result"
    }
   ],
   "source": [
    "mapdata[0:5]"
   ]
  },
  {
   "cell_type": "code",
   "execution_count": 10,
   "metadata": {
    "collapsed": false
   },
   "outputs": [
    {
     "data": {
      "text/plain": [
       "638"
      ]
     },
     "execution_count": 10,
     "metadata": {},
     "output_type": "execute_result"
    }
   ],
   "source": [
    "len(mapdata)"
   ]
  },
  {
   "cell_type": "code",
   "execution_count": 11,
   "metadata": {
    "collapsed": false
   },
   "outputs": [],
   "source": [
    "citymap = {}\n",
    "for i in range(len(mapdata)):\n",
    "    citymap[(mapdata.iloc[i,1],mapdata.iloc[i,2])] = (mapdata.iloc[i,5], mapdata.iloc[i,6])"
   ]
  },
  {
   "cell_type": "code",
   "execution_count": 12,
   "metadata": {
    "collapsed": false,
    "scrolled": true
   },
   "outputs": [
    {
     "name": "stdout",
     "output_type": "stream",
     "text": [
      "1500000\n",
      "2000000\n",
      "2500000\n",
      "3000000\n",
      "3500000\n",
      "4000000\n",
      "4500000\n"
     ]
    }
   ],
   "source": [
    "for i in range(1286380, len(data_new)):\n",
    "    loc1 = (data_new[i][5],data_new[i][6])\n",
    "    loc2 = (data_new[i][9],data_new[i][10])\n",
    "    city1 = citymap[loc1]\n",
    "    city2 = citymap[loc2]\n",
    "    data_new[i][-4] = city1[0]\n",
    "    data_new[i][-3] = city1[1]\n",
    "    data_new[i][-2] = city2[0]\n",
    "    data_new[i][-1] = city2[1]\n",
    "    if(i % 500000 == 0):\n",
    "        print i"
   ]
  },
  {
   "cell_type": "code",
   "execution_count": 22,
   "metadata": {
    "collapsed": true
   },
   "outputs": [],
   "source": [
    "data = pd.DataFrame(data_new, columns = data.columns.values)"
   ]
  },
  {
   "cell_type": "code",
   "execution_count": 23,
   "metadata": {
    "collapsed": false
   },
   "outputs": [
    {
     "data": {
      "text/html": [
       "<div>\n",
       "<table border=\"1\" class=\"dataframe\">\n",
       "  <thead>\n",
       "    <tr style=\"text-align: right;\">\n",
       "      <th></th>\n",
       "      <th>tripduration</th>\n",
       "      <th>starttime</th>\n",
       "      <th>stoptime</th>\n",
       "      <th>start.station.id</th>\n",
       "      <th>start.station.name</th>\n",
       "      <th>start.station.latitude</th>\n",
       "      <th>start.station.longitude</th>\n",
       "      <th>end.station.id</th>\n",
       "      <th>end.station.name</th>\n",
       "      <th>end.station.latitude</th>\n",
       "      <th>end.station.longitude</th>\n",
       "      <th>bikeid</th>\n",
       "      <th>usertype</th>\n",
       "      <th>birth.year</th>\n",
       "      <th>gender</th>\n",
       "      <th>start_neighborhood</th>\n",
       "      <th>start_borough</th>\n",
       "      <th>end_neighborhood</th>\n",
       "      <th>end_borough</th>\n",
       "    </tr>\n",
       "  </thead>\n",
       "  <tbody>\n",
       "    <tr>\n",
       "      <th>4586611</th>\n",
       "      <td>652</td>\n",
       "      <td>9/30/2016 23:59:12</td>\n",
       "      <td>10/1/2016 00:10:04</td>\n",
       "      <td>438</td>\n",
       "      <td>St Marks Pl &amp; 1 Ave</td>\n",
       "      <td>40.7278</td>\n",
       "      <td>-73.9857</td>\n",
       "      <td>434</td>\n",
       "      <td>9 Ave &amp; W 18 St</td>\n",
       "      <td>40.7432</td>\n",
       "      <td>-74.0037</td>\n",
       "      <td>22770</td>\n",
       "      <td>Subscriber</td>\n",
       "      <td>1989</td>\n",
       "      <td>1</td>\n",
       "      <td>Lower East Side</td>\n",
       "      <td>Manhattan</td>\n",
       "      <td>Chelsea and Clinton</td>\n",
       "      <td>Manhattan</td>\n",
       "    </tr>\n",
       "    <tr>\n",
       "      <th>4586612</th>\n",
       "      <td>1584</td>\n",
       "      <td>9/30/2016 23:59:17</td>\n",
       "      <td>10/1/2016 00:25:42</td>\n",
       "      <td>229</td>\n",
       "      <td>Great Jones St</td>\n",
       "      <td>40.7274</td>\n",
       "      <td>-73.9938</td>\n",
       "      <td>3100</td>\n",
       "      <td>Nassau Ave &amp; Newell St</td>\n",
       "      <td>40.7248</td>\n",
       "      <td>-73.9475</td>\n",
       "      <td>23654</td>\n",
       "      <td>Subscriber</td>\n",
       "      <td>1981</td>\n",
       "      <td>1</td>\n",
       "      <td>Greenwich Village and Soho</td>\n",
       "      <td>Manhattan</td>\n",
       "      <td>Greenpoint</td>\n",
       "      <td>Brooklyn</td>\n",
       "    </tr>\n",
       "    <tr>\n",
       "      <th>4586613</th>\n",
       "      <td>552</td>\n",
       "      <td>9/30/2016 23:59:27</td>\n",
       "      <td>10/1/2016 00:08:40</td>\n",
       "      <td>157</td>\n",
       "      <td>Henry St &amp; Atlantic Ave</td>\n",
       "      <td>40.6909</td>\n",
       "      <td>-73.9961</td>\n",
       "      <td>3429</td>\n",
       "      <td>Hanson Pl &amp; Ashland Pl</td>\n",
       "      <td>40.6851</td>\n",
       "      <td>-73.9779</td>\n",
       "      <td>18868</td>\n",
       "      <td>Subscriber</td>\n",
       "      <td>1970</td>\n",
       "      <td>1</td>\n",
       "      <td>Northwest Brooklyn</td>\n",
       "      <td>Brooklyn</td>\n",
       "      <td>Northwest Brooklyn</td>\n",
       "      <td>Brooklyn</td>\n",
       "    </tr>\n",
       "    <tr>\n",
       "      <th>4586614</th>\n",
       "      <td>1117</td>\n",
       "      <td>9/30/2016 23:59:28</td>\n",
       "      <td>10/1/2016 00:18:06</td>\n",
       "      <td>2002</td>\n",
       "      <td>Wythe Ave &amp; Metropolitan Ave</td>\n",
       "      <td>40.7169</td>\n",
       "      <td>-73.9632</td>\n",
       "      <td>418</td>\n",
       "      <td>Front St &amp; Gold St</td>\n",
       "      <td>40.7022</td>\n",
       "      <td>-73.9826</td>\n",
       "      <td>22896</td>\n",
       "      <td>Subscriber</td>\n",
       "      <td>1989</td>\n",
       "      <td>2</td>\n",
       "      <td>Bushwick and Williamsburg</td>\n",
       "      <td>Brooklyn</td>\n",
       "      <td>Northwest Brooklyn</td>\n",
       "      <td>Brooklyn</td>\n",
       "    </tr>\n",
       "    <tr>\n",
       "      <th>4586615</th>\n",
       "      <td>1107</td>\n",
       "      <td>9/30/2016 23:59:51</td>\n",
       "      <td>10/1/2016 00:18:18</td>\n",
       "      <td>2002</td>\n",
       "      <td>Wythe Ave &amp; Metropolitan Ave</td>\n",
       "      <td>40.7169</td>\n",
       "      <td>-73.9632</td>\n",
       "      <td>418</td>\n",
       "      <td>Front St &amp; Gold St</td>\n",
       "      <td>40.7022</td>\n",
       "      <td>-73.9826</td>\n",
       "      <td>22300</td>\n",
       "      <td>Subscriber</td>\n",
       "      <td>1982</td>\n",
       "      <td>1</td>\n",
       "      <td>Bushwick and Williamsburg</td>\n",
       "      <td>Brooklyn</td>\n",
       "      <td>Northwest Brooklyn</td>\n",
       "      <td>Brooklyn</td>\n",
       "    </tr>\n",
       "  </tbody>\n",
       "</table>\n",
       "</div>"
      ],
      "text/plain": [
       "        tripduration           starttime            stoptime start.station.id  \\\n",
       "4586611          652  9/30/2016 23:59:12  10/1/2016 00:10:04              438   \n",
       "4586612         1584  9/30/2016 23:59:17  10/1/2016 00:25:42              229   \n",
       "4586613          552  9/30/2016 23:59:27  10/1/2016 00:08:40              157   \n",
       "4586614         1117  9/30/2016 23:59:28  10/1/2016 00:18:06             2002   \n",
       "4586615         1107  9/30/2016 23:59:51  10/1/2016 00:18:18             2002   \n",
       "\n",
       "                   start.station.name start.station.latitude  \\\n",
       "4586611           St Marks Pl & 1 Ave                40.7278   \n",
       "4586612                Great Jones St                40.7274   \n",
       "4586613       Henry St & Atlantic Ave                40.6909   \n",
       "4586614  Wythe Ave & Metropolitan Ave                40.7169   \n",
       "4586615  Wythe Ave & Metropolitan Ave                40.7169   \n",
       "\n",
       "        start.station.longitude end.station.id        end.station.name  \\\n",
       "4586611                -73.9857            434         9 Ave & W 18 St   \n",
       "4586612                -73.9938           3100  Nassau Ave & Newell St   \n",
       "4586613                -73.9961           3429  Hanson Pl & Ashland Pl   \n",
       "4586614                -73.9632            418      Front St & Gold St   \n",
       "4586615                -73.9632            418      Front St & Gold St   \n",
       "\n",
       "        end.station.latitude end.station.longitude bikeid    usertype  \\\n",
       "4586611              40.7432              -74.0037  22770  Subscriber   \n",
       "4586612              40.7248              -73.9475  23654  Subscriber   \n",
       "4586613              40.6851              -73.9779  18868  Subscriber   \n",
       "4586614              40.7022              -73.9826  22896  Subscriber   \n",
       "4586615              40.7022              -73.9826  22300  Subscriber   \n",
       "\n",
       "        birth.year gender          start_neighborhood start_borough  \\\n",
       "4586611       1989      1             Lower East Side     Manhattan   \n",
       "4586612       1981      1  Greenwich Village and Soho     Manhattan   \n",
       "4586613       1970      1          Northwest Brooklyn      Brooklyn   \n",
       "4586614       1989      2   Bushwick and Williamsburg      Brooklyn   \n",
       "4586615       1982      1   Bushwick and Williamsburg      Brooklyn   \n",
       "\n",
       "            end_neighborhood end_borough  \n",
       "4586611  Chelsea and Clinton   Manhattan  \n",
       "4586612           Greenpoint    Brooklyn  \n",
       "4586613   Northwest Brooklyn    Brooklyn  \n",
       "4586614   Northwest Brooklyn    Brooklyn  \n",
       "4586615   Northwest Brooklyn    Brooklyn  "
      ]
     },
     "execution_count": 23,
     "metadata": {},
     "output_type": "execute_result"
    }
   ],
   "source": [
    "data.tail()"
   ]
  },
  {
   "cell_type": "code",
   "execution_count": 24,
   "metadata": {
    "collapsed": false
   },
   "outputs": [],
   "source": [
    "data.to_csv(\"data_with_station_cities.csv\", header=True)"
   ]
  }
 ],
 "metadata": {
  "kernelspec": {
   "display_name": "Python [Root]",
   "language": "python",
   "name": "Python [Root]"
  },
  "language_info": {
   "codemirror_mode": {
    "name": "ipython",
    "version": 2
   },
   "file_extension": ".py",
   "mimetype": "text/x-python",
   "name": "python",
   "nbconvert_exporter": "python",
   "pygments_lexer": "ipython2",
   "version": "2.7.12"
  }
 },
 "nbformat": 4,
 "nbformat_minor": 0
}
