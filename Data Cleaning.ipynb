{
 "cells": [
  {
   "cell_type": "code",
   "execution_count": 1,
   "metadata": {
    "collapsed": false
   },
   "outputs": [],
   "source": [
    "import numpy as np\n",
    "import pandas as pd\n",
    "import matplotlib\n",
    "import matplotlib.pyplot as plt\n",
    "import sys\n",
    "from datetime import datetime\n",
    "import time\n",
    "%matplotlib inline"
   ]
  },
  {
   "cell_type": "markdown",
   "metadata": {},
   "source": [
    "### Organize the original data ###"
   ]
  },
  {
   "cell_type": "code",
   "execution_count": 2,
   "metadata": {
    "collapsed": false
   },
   "outputs": [
    {
     "name": "stdout",
     "output_type": "stream",
     "text": [
      "Dimension of the data:  (4586616, 20)\n"
     ]
    },
    {
     "data": {
      "text/html": [
       "<div>\n",
       "<table border=\"1\" class=\"dataframe\">\n",
       "  <thead>\n",
       "    <tr style=\"text-align: right;\">\n",
       "      <th></th>\n",
       "      <th>Unnamed: 0</th>\n",
       "      <th>tripduration</th>\n",
       "      <th>starttime</th>\n",
       "      <th>stoptime</th>\n",
       "      <th>start.station.id</th>\n",
       "      <th>start.station.name</th>\n",
       "      <th>start.station.latitude</th>\n",
       "      <th>start.station.longitude</th>\n",
       "      <th>end.station.id</th>\n",
       "      <th>end.station.name</th>\n",
       "      <th>end.station.latitude</th>\n",
       "      <th>end.station.longitude</th>\n",
       "      <th>bikeid</th>\n",
       "      <th>usertype</th>\n",
       "      <th>birth.year</th>\n",
       "      <th>gender</th>\n",
       "      <th>start_neighborhood</th>\n",
       "      <th>start_borough</th>\n",
       "      <th>end_neighborhood</th>\n",
       "      <th>end_borough</th>\n",
       "    </tr>\n",
       "  </thead>\n",
       "  <tbody>\n",
       "    <tr>\n",
       "      <th>0</th>\n",
       "      <td>0</td>\n",
       "      <td>191</td>\n",
       "      <td>7/1/2016 00:00:19</td>\n",
       "      <td>7/1/2016 00:03:31</td>\n",
       "      <td>3090</td>\n",
       "      <td>N 8 St &amp; Driggs Ave</td>\n",
       "      <td>40.71775</td>\n",
       "      <td>-73.95600</td>\n",
       "      <td>3107</td>\n",
       "      <td>Bedford Ave &amp; Nassau Ave</td>\n",
       "      <td>40.72312</td>\n",
       "      <td>-73.95212</td>\n",
       "      <td>16345</td>\n",
       "      <td>Subscriber</td>\n",
       "      <td>1986.0</td>\n",
       "      <td>2</td>\n",
       "      <td>Greenpoint</td>\n",
       "      <td>Brooklyn</td>\n",
       "      <td>Greenpoint</td>\n",
       "      <td>Brooklyn</td>\n",
       "    </tr>\n",
       "    <tr>\n",
       "      <th>1</th>\n",
       "      <td>1</td>\n",
       "      <td>687</td>\n",
       "      <td>7/1/2016 00:00:24</td>\n",
       "      <td>7/1/2016 00:11:52</td>\n",
       "      <td>459</td>\n",
       "      <td>W 20 St &amp; 11 Ave</td>\n",
       "      <td>40.74674</td>\n",
       "      <td>-74.00776</td>\n",
       "      <td>347</td>\n",
       "      <td>Greenwich St &amp; W Houston St</td>\n",
       "      <td>40.72885</td>\n",
       "      <td>-74.00859</td>\n",
       "      <td>25210</td>\n",
       "      <td>Customer</td>\n",
       "      <td>NaN</td>\n",
       "      <td>0</td>\n",
       "      <td>Chelsea and Clinton</td>\n",
       "      <td>Manhattan</td>\n",
       "      <td>Greenwich Village and Soho</td>\n",
       "      <td>Manhattan</td>\n",
       "    </tr>\n",
       "    <tr>\n",
       "      <th>2</th>\n",
       "      <td>2</td>\n",
       "      <td>609</td>\n",
       "      <td>7/1/2016 00:00:31</td>\n",
       "      <td>7/1/2016 00:10:40</td>\n",
       "      <td>284</td>\n",
       "      <td>Greenwich Ave &amp; 8 Ave</td>\n",
       "      <td>40.73902</td>\n",
       "      <td>-74.00264</td>\n",
       "      <td>212</td>\n",
       "      <td>W 16 St &amp; The High Line</td>\n",
       "      <td>40.74335</td>\n",
       "      <td>-74.00682</td>\n",
       "      <td>15514</td>\n",
       "      <td>Customer</td>\n",
       "      <td>NaN</td>\n",
       "      <td>0</td>\n",
       "      <td>Greenwich Village and Soho</td>\n",
       "      <td>Manhattan</td>\n",
       "      <td>Chelsea and Clinton</td>\n",
       "      <td>Manhattan</td>\n",
       "    </tr>\n",
       "    <tr>\n",
       "      <th>3</th>\n",
       "      <td>3</td>\n",
       "      <td>672</td>\n",
       "      <td>7/1/2016 00:00:45</td>\n",
       "      <td>7/1/2016 00:11:57</td>\n",
       "      <td>459</td>\n",
       "      <td>W 20 St &amp; 11 Ave</td>\n",
       "      <td>40.74674</td>\n",
       "      <td>-74.00776</td>\n",
       "      <td>347</td>\n",
       "      <td>Greenwich St &amp; W Houston St</td>\n",
       "      <td>40.72885</td>\n",
       "      <td>-74.00859</td>\n",
       "      <td>15444</td>\n",
       "      <td>Subscriber</td>\n",
       "      <td>1991.0</td>\n",
       "      <td>1</td>\n",
       "      <td>Chelsea and Clinton</td>\n",
       "      <td>Manhattan</td>\n",
       "      <td>Greenwich Village and Soho</td>\n",
       "      <td>Manhattan</td>\n",
       "    </tr>\n",
       "    <tr>\n",
       "      <th>4</th>\n",
       "      <td>4</td>\n",
       "      <td>466</td>\n",
       "      <td>7/1/2016 00:00:49</td>\n",
       "      <td>7/1/2016 00:08:35</td>\n",
       "      <td>128</td>\n",
       "      <td>MacDougal St &amp; Prince St</td>\n",
       "      <td>40.72710</td>\n",
       "      <td>-74.00297</td>\n",
       "      <td>250</td>\n",
       "      <td>Lafayette St &amp; Jersey St N</td>\n",
       "      <td>40.72456</td>\n",
       "      <td>-73.99565</td>\n",
       "      <td>14676</td>\n",
       "      <td>Subscriber</td>\n",
       "      <td>1989.0</td>\n",
       "      <td>1</td>\n",
       "      <td>Greenwich Village and Soho</td>\n",
       "      <td>Manhattan</td>\n",
       "      <td>Greenwich Village and Soho</td>\n",
       "      <td>Manhattan</td>\n",
       "    </tr>\n",
       "  </tbody>\n",
       "</table>\n",
       "</div>"
      ],
      "text/plain": [
       "   Unnamed: 0  tripduration          starttime           stoptime  \\\n",
       "0           0           191  7/1/2016 00:00:19  7/1/2016 00:03:31   \n",
       "1           1           687  7/1/2016 00:00:24  7/1/2016 00:11:52   \n",
       "2           2           609  7/1/2016 00:00:31  7/1/2016 00:10:40   \n",
       "3           3           672  7/1/2016 00:00:45  7/1/2016 00:11:57   \n",
       "4           4           466  7/1/2016 00:00:49  7/1/2016 00:08:35   \n",
       "\n",
       "   start.station.id        start.station.name  start.station.latitude  \\\n",
       "0              3090       N 8 St & Driggs Ave                40.71775   \n",
       "1               459          W 20 St & 11 Ave                40.74674   \n",
       "2               284     Greenwich Ave & 8 Ave                40.73902   \n",
       "3               459          W 20 St & 11 Ave                40.74674   \n",
       "4               128  MacDougal St & Prince St                40.72710   \n",
       "\n",
       "   start.station.longitude  end.station.id             end.station.name  \\\n",
       "0                -73.95600            3107     Bedford Ave & Nassau Ave   \n",
       "1                -74.00776             347  Greenwich St & W Houston St   \n",
       "2                -74.00264             212      W 16 St & The High Line   \n",
       "3                -74.00776             347  Greenwich St & W Houston St   \n",
       "4                -74.00297             250   Lafayette St & Jersey St N   \n",
       "\n",
       "   end.station.latitude  end.station.longitude  bikeid    usertype  \\\n",
       "0              40.72312              -73.95212   16345  Subscriber   \n",
       "1              40.72885              -74.00859   25210    Customer   \n",
       "2              40.74335              -74.00682   15514    Customer   \n",
       "3              40.72885              -74.00859   15444  Subscriber   \n",
       "4              40.72456              -73.99565   14676  Subscriber   \n",
       "\n",
       "   birth.year  gender          start_neighborhood start_borough  \\\n",
       "0      1986.0       2                  Greenpoint      Brooklyn   \n",
       "1         NaN       0         Chelsea and Clinton     Manhattan   \n",
       "2         NaN       0  Greenwich Village and Soho     Manhattan   \n",
       "3      1991.0       1         Chelsea and Clinton     Manhattan   \n",
       "4      1989.0       1  Greenwich Village and Soho     Manhattan   \n",
       "\n",
       "             end_neighborhood end_borough  \n",
       "0                  Greenpoint    Brooklyn  \n",
       "1  Greenwich Village and Soho   Manhattan  \n",
       "2         Chelsea and Clinton   Manhattan  \n",
       "3  Greenwich Village and Soho   Manhattan  \n",
       "4  Greenwich Village and Soho   Manhattan  "
      ]
     },
     "execution_count": 2,
     "metadata": {},
     "output_type": "execute_result"
    }
   ],
   "source": [
    "main_data = pd.read_csv(\"data_with_station_cities.csv\", delimiter=\",\", low_memory=False)\n",
    "\n",
    "print \"Dimension of the data: \", main_data.shape\n",
    "main_data.head()"
   ]
  },
  {
   "cell_type": "code",
   "execution_count": 6,
   "metadata": {
    "collapsed": false
   },
   "outputs": [],
   "source": [
    "# number of trips\n",
    "n =  main_data.shape[0]\n",
    "\n",
    "# extract the time columns\n",
    "start_time = main_data['starttime']\n",
    "stop_time = main_data['stoptime']\n",
    "# store the results\n",
    "month = []\n",
    "day_of_month = []\n",
    "day_of_week = []\n",
    "start_hour = []\n",
    "stop_hour = []\n",
    "\n",
    "# for each trip\n",
    "for i in range(n):\n",
    "    # separate start time into month, day, start_hour\n",
    "    trip_start_time = time.strptime(start_time[i], \"%m/%d/%Y %H:%M:%S\")\n",
    "    month.append(trip_start_time.tm_mon)\n",
    "    day_of_month.append(trip_start_time.tm_mday)\n",
    "    start_hour.append(trip_start_time.tm_hour)\n",
    "    # extract weekday\n",
    "    day_of_week.append(trip_start_time.tm_wday)\n",
    "\n",
    "    # extract stop_hour from stop_time\n",
    "    trip_stop_time = time.strptime(stop_time[i], \"%m/%d/%Y %H:%M:%S\")\n",
    "    stop_hour.append(trip_stop_time.tm_hour)"
   ]
  },
  {
   "cell_type": "code",
   "execution_count": 18,
   "metadata": {
    "collapsed": false
   },
   "outputs": [
    {
     "data": {
      "text/html": [
       "<div>\n",
       "<table border=\"1\" class=\"dataframe\">\n",
       "  <thead>\n",
       "    <tr style=\"text-align: right;\">\n",
       "      <th></th>\n",
       "      <th>day_of_month</th>\n",
       "      <th>day_of_week</th>\n",
       "      <th>month</th>\n",
       "      <th>start_hour</th>\n",
       "      <th>stop_hour</th>\n",
       "      <th>tripduration</th>\n",
       "      <th>start_neighborhood</th>\n",
       "      <th>end_neighborhood</th>\n",
       "      <th>usertype</th>\n",
       "    </tr>\n",
       "  </thead>\n",
       "  <tbody>\n",
       "    <tr>\n",
       "      <th>0</th>\n",
       "      <td>1</td>\n",
       "      <td>4</td>\n",
       "      <td>7</td>\n",
       "      <td>0</td>\n",
       "      <td>0</td>\n",
       "      <td>191</td>\n",
       "      <td>Greenpoint</td>\n",
       "      <td>Greenpoint</td>\n",
       "      <td>Subscriber</td>\n",
       "    </tr>\n",
       "    <tr>\n",
       "      <th>1</th>\n",
       "      <td>1</td>\n",
       "      <td>4</td>\n",
       "      <td>7</td>\n",
       "      <td>0</td>\n",
       "      <td>0</td>\n",
       "      <td>687</td>\n",
       "      <td>Chelsea and Clinton</td>\n",
       "      <td>Greenwich Village and Soho</td>\n",
       "      <td>Customer</td>\n",
       "    </tr>\n",
       "    <tr>\n",
       "      <th>2</th>\n",
       "      <td>1</td>\n",
       "      <td>4</td>\n",
       "      <td>7</td>\n",
       "      <td>0</td>\n",
       "      <td>0</td>\n",
       "      <td>609</td>\n",
       "      <td>Greenwich Village and Soho</td>\n",
       "      <td>Chelsea and Clinton</td>\n",
       "      <td>Customer</td>\n",
       "    </tr>\n",
       "    <tr>\n",
       "      <th>3</th>\n",
       "      <td>1</td>\n",
       "      <td>4</td>\n",
       "      <td>7</td>\n",
       "      <td>0</td>\n",
       "      <td>0</td>\n",
       "      <td>672</td>\n",
       "      <td>Chelsea and Clinton</td>\n",
       "      <td>Greenwich Village and Soho</td>\n",
       "      <td>Subscriber</td>\n",
       "    </tr>\n",
       "    <tr>\n",
       "      <th>4</th>\n",
       "      <td>1</td>\n",
       "      <td>4</td>\n",
       "      <td>7</td>\n",
       "      <td>0</td>\n",
       "      <td>0</td>\n",
       "      <td>466</td>\n",
       "      <td>Greenwich Village and Soho</td>\n",
       "      <td>Greenwich Village and Soho</td>\n",
       "      <td>Subscriber</td>\n",
       "    </tr>\n",
       "  </tbody>\n",
       "</table>\n",
       "</div>"
      ],
      "text/plain": [
       "   day_of_month  day_of_week  month  start_hour  stop_hour  tripduration  \\\n",
       "0             1            4      7           0          0           191   \n",
       "1             1            4      7           0          0           687   \n",
       "2             1            4      7           0          0           609   \n",
       "3             1            4      7           0          0           672   \n",
       "4             1            4      7           0          0           466   \n",
       "\n",
       "           start_neighborhood            end_neighborhood    usertype  \n",
       "0                  Greenpoint                  Greenpoint  Subscriber  \n",
       "1         Chelsea and Clinton  Greenwich Village and Soho    Customer  \n",
       "2  Greenwich Village and Soho         Chelsea and Clinton    Customer  \n",
       "3         Chelsea and Clinton  Greenwich Village and Soho  Subscriber  \n",
       "4  Greenwich Village and Soho  Greenwich Village and Soho  Subscriber  "
      ]
     },
     "execution_count": 18,
     "metadata": {},
     "output_type": "execute_result"
    }
   ],
   "source": [
    "# organize useful information to a new dataframe\n",
    "new_data = pd.DataFrame({\n",
    "        \"month\": month,\n",
    "        \"day_of_month\": day_of_month,\n",
    "        \"day_of_week\": day_of_week,\n",
    "        \"start_hour\": start_hour,\n",
    "        \"stop_hour\": stop_hour,        \n",
    "    })\n",
    "\n",
    "new_data = pd.concat([new_data, main_data['tripduration'], main_data['start_neighborhood'], \n",
    "                      main_data['end_neighborhood'], main_data['usertype']], axis = 1)\n",
    "\n",
    "new_data.head()"
   ]
  },
  {
   "cell_type": "code",
   "execution_count": 19,
   "metadata": {
    "collapsed": false
   },
   "outputs": [],
   "source": [
    "new_data.to_csv(\"new_trip_data.csv\", sep = ',')"
   ]
  },
  {
   "cell_type": "markdown",
   "metadata": {},
   "source": [
    "### Compute data for each region ###"
   ]
  },
  {
   "cell_type": "code",
   "execution_count": 27,
   "metadata": {
    "collapsed": false
   },
   "outputs": [],
   "source": [
    "data_organized = []\n",
    "# create labels\n",
    "labels = [\"month\", \"day_of_month\", \"day_of_week\", \"neighborhood\", \"hour\", \"trip_number\", \n",
    "          \"average_duration\", \"percent_subscriber\", \"trip_type\"]\n",
    "data_organized = np.asarray(labels).reshape(1, 9)\n",
    "\n",
    "for month_num in new_data['month'].unique():\n",
    "    # operate on data of this month\n",
    "    month_data = new_data.loc[new_data['month'] == month_num]\n",
    "    for day_num in month_data['day_of_month'].unique():\n",
    "        # operate on data of each day\n",
    "        day_data = month_data.loc[month_data['day_of_month'] == day_num]\n",
    "        weekday = day_data['day_of_week'].values[0]\n",
    "        # outgoing trips in each region\n",
    "        for region in day_data['start_neighborhood'].unique():\n",
    "            region_data = day_data.loc[day_data['start_neighborhood'] == region]\n",
    "            # compute for each hour\n",
    "            for hour in region_data['start_hour'].unique():\n",
    "                # prepare information of this piece of data\n",
    "                summary = []\n",
    "                summary.append(month_num)\n",
    "                summary.append(day_num)\n",
    "                summary.append(weekday)\n",
    "                summary.append(region)\n",
    "                summary.append(hour)\n",
    "                # target dataset\n",
    "                final_data = region_data.loc[region_data['start_hour'] == hour]\n",
    "                # compute number of outgoing trips\n",
    "                summary.append(final_data.shape[0])\n",
    "                # average trip duration\n",
    "                summary.append(np.mean(final_data['tripduration'].values))\n",
    "                # compute subscriber percentage\n",
    "                percent = np.mean(final_data['usertype'] == \"Subscriber\")\n",
    "                summary.append(percent)\n",
    "                # label trip type\n",
    "                summary.append(\"outgoing\")\n",
    "                \n",
    "                # append the list to a large array\n",
    "                summary = np.asarray(summary).reshape((1, 9))\n",
    "                data_organized = np.concatenate((data_organized, summary), axis = 0)\n",
    "\n",
    "        # incoming trips in each region   \n",
    "        for region in day_data['end_neighborhood'].unique():\n",
    "            region_data = day_data.loc[day_data['end_neighborhood'] == region]\n",
    "            # compute for each hour\n",
    "            for hour in region_data['stop_hour'].unique():\n",
    "                # prepare information of this piece of data\n",
    "                summary = []\n",
    "                summary.append(month_num)\n",
    "                summary.append(day_num)\n",
    "                summary.append(weekday)\n",
    "                summary.append(region)\n",
    "                summary.append(hour)\n",
    "                # target dataset\n",
    "                final_data = region_data.loc[region_data['stop_hour'] == hour]\n",
    "                # compute number of incoming trips\n",
    "                summary.append(final_data.shape[0])\n",
    "                # average trip duration\n",
    "                summary.append(np.mean(final_data['tripduration'].values))\n",
    "                # compute subscriber percentage\n",
    "                percent = np.mean(final_data['usertype'] == \"Subscriber\")\n",
    "                summary.append(percent)\n",
    "                # label trip type\n",
    "                summary.append(\"incoming\")\n",
    "                \n",
    "                # append the list to a large array\n",
    "                summary = np.asarray(summary).reshape((1, 9))\n",
    "                data_organized = np.concatenate((data_organized, summary), axis = 0)"
   ]
  },
  {
   "cell_type": "code",
   "execution_count": 28,
   "metadata": {
    "collapsed": false
   },
   "outputs": [
    {
     "name": "stdout",
     "output_type": "stream",
     "text": [
      "Dimension:  (57019L, 9L)\n"
     ]
    }
   ],
   "source": [
    "print \"Dimension: \", data_organized.shape "
   ]
  },
  {
   "cell_type": "code",
   "execution_count": 31,
   "metadata": {
    "collapsed": false
   },
   "outputs": [
    {
     "data": {
      "text/html": [
       "<div>\n",
       "<table border=\"1\" class=\"dataframe\">\n",
       "  <thead>\n",
       "    <tr style=\"text-align: right;\">\n",
       "      <th></th>\n",
       "      <th>month</th>\n",
       "      <th>day_of_month</th>\n",
       "      <th>day_of_week</th>\n",
       "      <th>neighborhood</th>\n",
       "      <th>hour</th>\n",
       "      <th>trip_number</th>\n",
       "      <th>average_duration</th>\n",
       "      <th>percent_subscriber</th>\n",
       "      <th>trip_type</th>\n",
       "    </tr>\n",
       "  </thead>\n",
       "  <tbody>\n",
       "    <tr>\n",
       "      <th>0</th>\n",
       "      <td>7</td>\n",
       "      <td>1</td>\n",
       "      <td>4</td>\n",
       "      <td>Greenpoint</td>\n",
       "      <td>0</td>\n",
       "      <td>26</td>\n",
       "      <td>1888.5</td>\n",
       "      <td>0.961538461538</td>\n",
       "      <td>outgoing</td>\n",
       "    </tr>\n",
       "    <tr>\n",
       "      <th>1</th>\n",
       "      <td>7</td>\n",
       "      <td>1</td>\n",
       "      <td>4</td>\n",
       "      <td>Greenpoint</td>\n",
       "      <td>1</td>\n",
       "      <td>12</td>\n",
       "      <td>524.25</td>\n",
       "      <td>1.0</td>\n",
       "      <td>outgoing</td>\n",
       "    </tr>\n",
       "    <tr>\n",
       "      <th>2</th>\n",
       "      <td>7</td>\n",
       "      <td>1</td>\n",
       "      <td>4</td>\n",
       "      <td>Greenpoint</td>\n",
       "      <td>2</td>\n",
       "      <td>9</td>\n",
       "      <td>852.222222222</td>\n",
       "      <td>1.0</td>\n",
       "      <td>outgoing</td>\n",
       "    </tr>\n",
       "    <tr>\n",
       "      <th>3</th>\n",
       "      <td>7</td>\n",
       "      <td>1</td>\n",
       "      <td>4</td>\n",
       "      <td>Greenpoint</td>\n",
       "      <td>3</td>\n",
       "      <td>4</td>\n",
       "      <td>563.25</td>\n",
       "      <td>1.0</td>\n",
       "      <td>outgoing</td>\n",
       "    </tr>\n",
       "    <tr>\n",
       "      <th>4</th>\n",
       "      <td>7</td>\n",
       "      <td>1</td>\n",
       "      <td>4</td>\n",
       "      <td>Greenpoint</td>\n",
       "      <td>4</td>\n",
       "      <td>3</td>\n",
       "      <td>470.333333333</td>\n",
       "      <td>1.0</td>\n",
       "      <td>outgoing</td>\n",
       "    </tr>\n",
       "  </tbody>\n",
       "</table>\n",
       "</div>"
      ],
      "text/plain": [
       "  month day_of_month day_of_week neighborhood hour trip_number  \\\n",
       "0     7            1           4   Greenpoint    0          26   \n",
       "1     7            1           4   Greenpoint    1          12   \n",
       "2     7            1           4   Greenpoint    2           9   \n",
       "3     7            1           4   Greenpoint    3           4   \n",
       "4     7            1           4   Greenpoint    4           3   \n",
       "\n",
       "  average_duration percent_subscriber trip_type  \n",
       "0           1888.5     0.961538461538  outgoing  \n",
       "1           524.25                1.0  outgoing  \n",
       "2    852.222222222                1.0  outgoing  \n",
       "3           563.25                1.0  outgoing  \n",
       "4    470.333333333                1.0  outgoing  "
      ]
     },
     "execution_count": 31,
     "metadata": {},
     "output_type": "execute_result"
    }
   ],
   "source": [
    "df_data_organized = pd.DataFrame(data_organized[1:, :], columns= data_organized[0, :])\n",
    "df_data_organized.head()"
   ]
  },
  {
   "cell_type": "markdown",
   "metadata": {},
   "source": [
    "### Total docks in each neighborhood region ###"
   ]
  },
  {
   "cell_type": "code",
   "execution_count": 33,
   "metadata": {
    "collapsed": false
   },
   "outputs": [
    {
     "name": "stdout",
     "output_type": "stream",
     "text": [
      "Dimension of station data:  (663, 19)\n"
     ]
    },
    {
     "data": {
      "text/html": [
       "<div>\n",
       "<table border=\"1\" class=\"dataframe\">\n",
       "  <thead>\n",
       "    <tr style=\"text-align: right;\">\n",
       "      <th></th>\n",
       "      <th>Unnamed: 0</th>\n",
       "      <th>altitude</th>\n",
       "      <th>availableBikes</th>\n",
       "      <th>availableDocks</th>\n",
       "      <th>city</th>\n",
       "      <th>id</th>\n",
       "      <th>landMark</th>\n",
       "      <th>lastCommunicationTime</th>\n",
       "      <th>latitude</th>\n",
       "      <th>location</th>\n",
       "      <th>longitude</th>\n",
       "      <th>postalCode</th>\n",
       "      <th>stAddress1</th>\n",
       "      <th>stAddress2</th>\n",
       "      <th>stationName</th>\n",
       "      <th>statusKey</th>\n",
       "      <th>statusValue</th>\n",
       "      <th>testStation</th>\n",
       "      <th>totalDocks</th>\n",
       "    </tr>\n",
       "  </thead>\n",
       "  <tbody>\n",
       "    <tr>\n",
       "      <th>0</th>\n",
       "      <td>0</td>\n",
       "      <td>NaN</td>\n",
       "      <td>18</td>\n",
       "      <td>20</td>\n",
       "      <td>NaN</td>\n",
       "      <td>72</td>\n",
       "      <td>NaN</td>\n",
       "      <td>2016-11-22 02:41:46 PM</td>\n",
       "      <td>40.767272</td>\n",
       "      <td>NaN</td>\n",
       "      <td>-73.993929</td>\n",
       "      <td>NaN</td>\n",
       "      <td>W 52 St &amp; 11 Ave</td>\n",
       "      <td>NaN</td>\n",
       "      <td>W 52 St &amp; 11 Ave</td>\n",
       "      <td>1</td>\n",
       "      <td>In Service</td>\n",
       "      <td>False</td>\n",
       "      <td>39</td>\n",
       "    </tr>\n",
       "    <tr>\n",
       "      <th>1</th>\n",
       "      <td>1</td>\n",
       "      <td>NaN</td>\n",
       "      <td>29</td>\n",
       "      <td>4</td>\n",
       "      <td>NaN</td>\n",
       "      <td>79</td>\n",
       "      <td>NaN</td>\n",
       "      <td>2016-11-22 02:41:23 PM</td>\n",
       "      <td>40.719116</td>\n",
       "      <td>NaN</td>\n",
       "      <td>-74.006667</td>\n",
       "      <td>NaN</td>\n",
       "      <td>Franklin St &amp; W Broadway</td>\n",
       "      <td>NaN</td>\n",
       "      <td>Franklin St &amp; W Broadway</td>\n",
       "      <td>1</td>\n",
       "      <td>In Service</td>\n",
       "      <td>False</td>\n",
       "      <td>33</td>\n",
       "    </tr>\n",
       "    <tr>\n",
       "      <th>2</th>\n",
       "      <td>2</td>\n",
       "      <td>NaN</td>\n",
       "      <td>22</td>\n",
       "      <td>5</td>\n",
       "      <td>NaN</td>\n",
       "      <td>82</td>\n",
       "      <td>NaN</td>\n",
       "      <td>2016-11-22 02:42:36 PM</td>\n",
       "      <td>40.711174</td>\n",
       "      <td>NaN</td>\n",
       "      <td>-74.000165</td>\n",
       "      <td>NaN</td>\n",
       "      <td>St James Pl &amp; Pearl St</td>\n",
       "      <td>NaN</td>\n",
       "      <td>St James Pl &amp; Pearl St</td>\n",
       "      <td>1</td>\n",
       "      <td>In Service</td>\n",
       "      <td>False</td>\n",
       "      <td>27</td>\n",
       "    </tr>\n",
       "    <tr>\n",
       "      <th>3</th>\n",
       "      <td>3</td>\n",
       "      <td>NaN</td>\n",
       "      <td>18</td>\n",
       "      <td>43</td>\n",
       "      <td>NaN</td>\n",
       "      <td>83</td>\n",
       "      <td>NaN</td>\n",
       "      <td>2016-11-22 02:44:54 PM</td>\n",
       "      <td>40.683826</td>\n",
       "      <td>NaN</td>\n",
       "      <td>-73.976323</td>\n",
       "      <td>NaN</td>\n",
       "      <td>Atlantic Ave &amp; Fort Greene Pl</td>\n",
       "      <td>NaN</td>\n",
       "      <td>Atlantic Ave &amp; Fort Greene Pl</td>\n",
       "      <td>1</td>\n",
       "      <td>In Service</td>\n",
       "      <td>False</td>\n",
       "      <td>62</td>\n",
       "    </tr>\n",
       "    <tr>\n",
       "      <th>4</th>\n",
       "      <td>4</td>\n",
       "      <td>NaN</td>\n",
       "      <td>28</td>\n",
       "      <td>9</td>\n",
       "      <td>NaN</td>\n",
       "      <td>116</td>\n",
       "      <td>NaN</td>\n",
       "      <td>2016-11-22 02:44:42 PM</td>\n",
       "      <td>40.741776</td>\n",
       "      <td>NaN</td>\n",
       "      <td>-74.001497</td>\n",
       "      <td>NaN</td>\n",
       "      <td>W 17 St &amp; 8 Ave</td>\n",
       "      <td>NaN</td>\n",
       "      <td>W 17 St &amp; 8 Ave</td>\n",
       "      <td>1</td>\n",
       "      <td>In Service</td>\n",
       "      <td>False</td>\n",
       "      <td>39</td>\n",
       "    </tr>\n",
       "  </tbody>\n",
       "</table>\n",
       "</div>"
      ],
      "text/plain": [
       "   Unnamed: 0  altitude  availableBikes  availableDocks  city   id  landMark  \\\n",
       "0           0       NaN              18              20   NaN   72       NaN   \n",
       "1           1       NaN              29               4   NaN   79       NaN   \n",
       "2           2       NaN              22               5   NaN   82       NaN   \n",
       "3           3       NaN              18              43   NaN   83       NaN   \n",
       "4           4       NaN              28               9   NaN  116       NaN   \n",
       "\n",
       "    lastCommunicationTime   latitude  location  longitude  postalCode  \\\n",
       "0  2016-11-22 02:41:46 PM  40.767272       NaN -73.993929         NaN   \n",
       "1  2016-11-22 02:41:23 PM  40.719116       NaN -74.006667         NaN   \n",
       "2  2016-11-22 02:42:36 PM  40.711174       NaN -74.000165         NaN   \n",
       "3  2016-11-22 02:44:54 PM  40.683826       NaN -73.976323         NaN   \n",
       "4  2016-11-22 02:44:42 PM  40.741776       NaN -74.001497         NaN   \n",
       "\n",
       "                      stAddress1  stAddress2                    stationName  \\\n",
       "0               W 52 St & 11 Ave         NaN               W 52 St & 11 Ave   \n",
       "1       Franklin St & W Broadway         NaN       Franklin St & W Broadway   \n",
       "2         St James Pl & Pearl St         NaN         St James Pl & Pearl St   \n",
       "3  Atlantic Ave & Fort Greene Pl         NaN  Atlantic Ave & Fort Greene Pl   \n",
       "4                W 17 St & 8 Ave         NaN                W 17 St & 8 Ave   \n",
       "\n",
       "   statusKey statusValue testStation  totalDocks  \n",
       "0          1  In Service       False          39  \n",
       "1          1  In Service       False          33  \n",
       "2          1  In Service       False          27  \n",
       "3          1  In Service       False          62  \n",
       "4          1  In Service       False          39  "
      ]
     },
     "execution_count": 33,
     "metadata": {},
     "output_type": "execute_result"
    }
   ],
   "source": [
    "station_data = pd.read_csv(\"station_info.csv\", delimiter=\",\", low_memory=False)\n",
    "print \"Dimension of station data: \", station_data.shape\n",
    "station_data.head()"
   ]
  },
  {
   "cell_type": "code",
   "execution_count": 34,
   "metadata": {
    "collapsed": false
   },
   "outputs": [
    {
     "name": "stdout",
     "output_type": "stream",
     "text": [
      "Dimension of station in-service:  (638, 19)\n"
     ]
    }
   ],
   "source": [
    "station_in_service = station_data.loc[station_data['statusKey'] == 1]\n",
    "print \"Dimension of station in-service: \", station_in_service.shape"
   ]
  },
  {
   "cell_type": "code",
   "execution_count": 43,
   "metadata": {
    "collapsed": false
   },
   "outputs": [
    {
     "name": "stdout",
     "output_type": "stream",
     "text": [
      " Check dimension of the matched neighborhood:  638\n"
     ]
    }
   ],
   "source": [
    "# match the stations to neighborhood\n",
    "n_station =  station_in_service.shape[0]\n",
    "station_neighborhood = []\n",
    "\n",
    "# 0 if using the start_neighborhood, 1 if using the end_neighborhood\n",
    "end_station = 0\n",
    "\n",
    "for n in range(n_station):\n",
    "    station_id = station_in_service['id'].values[n]\n",
    "    same_station = main_data.loc[main_data['start.station.id'] == station_id]\n",
    "    if same_station.shape[0] == 0:\n",
    "        same_station = main_data.loc[main_data['end.station.id'] == station_id]\n",
    "        end_station = 1\n",
    "    if same_station.shape[0] == 0:\n",
    "        region = 'NA'\n",
    "    elif end_station == 0:\n",
    "        region = same_station['start_neighborhood'].values[0]\n",
    "    else:\n",
    "        region = same_station['end_neighborhood'].values[0]\n",
    "    end_station = 0\n",
    "    station_neighborhood.append(region)\n",
    "    \n",
    "print \"Check dimension of the matched neighborhood: \", len(station_neighborhood)"
   ]
  },
  {
   "cell_type": "markdown",
   "metadata": {},
   "source": [
    "**Check the stations without matched neighborhood. It turns out that the stations are all new ones (with large station id number) that probably did not operation before Sep 2016. **"
   ]
  },
  {
   "cell_type": "code",
   "execution_count": 57,
   "metadata": {
    "collapsed": false
   },
   "outputs": [
    {
     "name": "stdout",
     "output_type": "stream",
     "text": [
      "Number of stations not-in-service:  41\n"
     ]
    }
   ],
   "source": [
    "station_neighborhood = np.asarray(station_neighborhood)\n",
    "\n",
    "station_not_in_service = station_neighborhood[station_neighborhood == \"NA\"]\n",
    "\n",
    "print \"Number of stations not-in-service: \", len(station_not_in_service)"
   ]
  },
  {
   "cell_type": "code",
   "execution_count": 58,
   "metadata": {
    "collapsed": false
   },
   "outputs": [
    {
     "data": {
      "text/plain": [
       "array([3187, 3188, 3189, 3190, 3191, 3192, 3193, 3194, 3195, 3196, 3197,\n",
       "       3200, 3201, 3202, 3203, 3205, 3206, 3207, 3209, 3210, 3211, 3212,\n",
       "       3215, 3216, 3217, 3220, 3268, 3269, 3270, 3271, 3272, 3273, 3274,\n",
       "       3275, 3277, 3278, 3280, 3281, 3346, 3407, 3438], dtype=int64)"
      ]
     },
     "execution_count": 58,
     "metadata": {},
     "output_type": "execute_result"
    }
   ],
   "source": [
    "station_in_service['id'].values[station_neighborhood == \"NA\"]"
   ]
  },
  {
   "cell_type": "markdown",
   "metadata": {},
   "source": [
    "**Compute total number of docks in each region, and add the information to the organized data set. **"
   ]
  },
  {
   "cell_type": "code",
   "execution_count": 60,
   "metadata": {
    "collapsed": false
   },
   "outputs": [
    {
     "name": "stderr",
     "output_type": "stream",
     "text": [
      "D:\\Anaconda2\\lib\\site-packages\\ipykernel\\__main__.py:1: SettingWithCopyWarning: \n",
      "A value is trying to be set on a copy of a slice from a DataFrame.\n",
      "Try using .loc[row_indexer,col_indexer] = value instead\n",
      "\n",
      "See the caveats in the documentation: http://pandas.pydata.org/pandas-docs/stable/indexing.html#indexing-view-versus-copy\n",
      "  if __name__ == '__main__':\n"
     ]
    }
   ],
   "source": [
    "station_in_service['neighborhood'] = pd.Series(station_neighborhood)"
   ]
  },
  {
   "cell_type": "code",
   "execution_count": 62,
   "metadata": {
    "collapsed": false
   },
   "outputs": [
    {
     "data": {
      "text/plain": [
       "array(['Chelsea and Clinton', 'Greenwich Village and Soho',\n",
       "       'Lower Manhattan', 'Northwest Brooklyn', 'Central Brooklyn',\n",
       "       'Lower East Side', 'Gramercy Park and Murray Hill',\n",
       "       'Bushwick and Williamsburg', 'Upper West Side', 'Greenpoint',\n",
       "       'Northwest Queens', 'Upper East Side', 'Hudson', 'NA',\n",
       "       'East Harlem', 'Central Harlem', 'Canarsie and Flatlands', nan], dtype=object)"
      ]
     },
     "execution_count": 62,
     "metadata": {},
     "output_type": "execute_result"
    }
   ],
   "source": [
    "# check how many regions there are\n",
    "station_in_service['neighborhood'].unique()"
   ]
  },
  {
   "cell_type": "code",
   "execution_count": 67,
   "metadata": {
    "collapsed": false
   },
   "outputs": [],
   "source": [
    "# compute total docks in each region\n",
    "docks_by_region = [\"neighborbood\", \"totalDocks\"]\n",
    "docks_by_region = np.array(docks_by_region).reshape((1,2))\n",
    "\n",
    "for region in station_in_service['neighborhood'].unique():\n",
    "    region_data = station_in_service.loc[station_in_service['neighborhood'] == region]\n",
    "    result = [region, np.sum(region_data['totalDocks'].values)]\n",
    "    result = np.asarray(result).reshape((1, 2))\n",
    "    \n",
    "    docks_by_region = np.concatenate((docks_by_region, result), axis = 0)"
   ]
  },
  {
   "cell_type": "code",
   "execution_count": 68,
   "metadata": {
    "collapsed": false
   },
   "outputs": [
    {
     "data": {
      "text/plain": [
       "array([['neighborbood', 'totalDocks'],\n",
       "       ['Chelsea and Clinton', '2435'],\n",
       "       ['Greenwich Village and Soho', '1168'],\n",
       "       ['Lower Manhattan', '1039'],\n",
       "       ['Northwest Brooklyn', '3691'],\n",
       "       ['Central Brooklyn', '759'],\n",
       "       ['Lower East Side', '2067'],\n",
       "       ['Gramercy Park and Murray Hill', '1470'],\n",
       "       ['Bushwick and Williamsburg', '1007'],\n",
       "       ['Upper West Side', '1141'],\n",
       "       ['Greenpoint', '964'],\n",
       "       ['Northwest Queens', '381'],\n",
       "       ['Upper East Side', '1197'],\n",
       "       ['Hudson', '397'],\n",
       "       ['NA', '1173'],\n",
       "       ['East Harlem', '374'],\n",
       "       ['Central Harlem', '39'],\n",
       "       ['Canarsie and Flatlands', '27'],\n",
       "       ['nan', '0.0']], \n",
       "      dtype='|S32')"
      ]
     },
     "execution_count": 68,
     "metadata": {},
     "output_type": "execute_result"
    }
   ],
   "source": [
    "docks_by_region"
   ]
  },
  {
   "cell_type": "code",
   "execution_count": 83,
   "metadata": {
    "collapsed": false
   },
   "outputs": [],
   "source": [
    "# normalize the trip numbers by total docks in the region\n",
    "n_regions = docks_by_region.shape[0] - 1\n",
    "\n",
    "# extract information from the organized data\n",
    "neighborhood = data_organized[1:,3]\n",
    "trip_number = data_organized[1:,5].astype(int)\n",
    "# array to store the normalized trip number\n",
    "normalized_trip_num = np.zeros(len(trip_number))\n",
    "\n",
    "for n in range(n_regions):\n",
    "    region = docks_by_region[n+1, 0]\n",
    "    normalized_trip_num[neighborhood == region] = trip_number[neighborhood == region]/float(docks_by_region[n+1, 1])"
   ]
  },
  {
   "cell_type": "code",
   "execution_count": 89,
   "metadata": {
    "collapsed": false
   },
   "outputs": [
    {
     "data": {
      "text/html": [
       "<div>\n",
       "<table border=\"1\" class=\"dataframe\">\n",
       "  <thead>\n",
       "    <tr style=\"text-align: right;\">\n",
       "      <th></th>\n",
       "      <th>month</th>\n",
       "      <th>day_of_month</th>\n",
       "      <th>day_of_week</th>\n",
       "      <th>neighborhood</th>\n",
       "      <th>hour</th>\n",
       "      <th>trip_number</th>\n",
       "      <th>average_duration</th>\n",
       "      <th>percent_subscriber</th>\n",
       "      <th>trip_type</th>\n",
       "      <th>normalized_trip_num</th>\n",
       "    </tr>\n",
       "  </thead>\n",
       "  <tbody>\n",
       "    <tr>\n",
       "      <th>0</th>\n",
       "      <td>7</td>\n",
       "      <td>1</td>\n",
       "      <td>4</td>\n",
       "      <td>Greenpoint</td>\n",
       "      <td>0</td>\n",
       "      <td>26</td>\n",
       "      <td>1888.5</td>\n",
       "      <td>0.961538461538</td>\n",
       "      <td>outgoing</td>\n",
       "      <td>0.026971</td>\n",
       "    </tr>\n",
       "    <tr>\n",
       "      <th>1</th>\n",
       "      <td>7</td>\n",
       "      <td>1</td>\n",
       "      <td>4</td>\n",
       "      <td>Greenpoint</td>\n",
       "      <td>1</td>\n",
       "      <td>12</td>\n",
       "      <td>524.25</td>\n",
       "      <td>1.0</td>\n",
       "      <td>outgoing</td>\n",
       "      <td>0.012448</td>\n",
       "    </tr>\n",
       "    <tr>\n",
       "      <th>2</th>\n",
       "      <td>7</td>\n",
       "      <td>1</td>\n",
       "      <td>4</td>\n",
       "      <td>Greenpoint</td>\n",
       "      <td>2</td>\n",
       "      <td>9</td>\n",
       "      <td>852.222222222</td>\n",
       "      <td>1.0</td>\n",
       "      <td>outgoing</td>\n",
       "      <td>0.009336</td>\n",
       "    </tr>\n",
       "    <tr>\n",
       "      <th>3</th>\n",
       "      <td>7</td>\n",
       "      <td>1</td>\n",
       "      <td>4</td>\n",
       "      <td>Greenpoint</td>\n",
       "      <td>3</td>\n",
       "      <td>4</td>\n",
       "      <td>563.25</td>\n",
       "      <td>1.0</td>\n",
       "      <td>outgoing</td>\n",
       "      <td>0.004149</td>\n",
       "    </tr>\n",
       "    <tr>\n",
       "      <th>4</th>\n",
       "      <td>7</td>\n",
       "      <td>1</td>\n",
       "      <td>4</td>\n",
       "      <td>Greenpoint</td>\n",
       "      <td>4</td>\n",
       "      <td>3</td>\n",
       "      <td>470.333333333</td>\n",
       "      <td>1.0</td>\n",
       "      <td>outgoing</td>\n",
       "      <td>0.003112</td>\n",
       "    </tr>\n",
       "  </tbody>\n",
       "</table>\n",
       "</div>"
      ],
      "text/plain": [
       "  month day_of_month day_of_week neighborhood hour trip_number  \\\n",
       "0     7            1           4   Greenpoint    0          26   \n",
       "1     7            1           4   Greenpoint    1          12   \n",
       "2     7            1           4   Greenpoint    2           9   \n",
       "3     7            1           4   Greenpoint    3           4   \n",
       "4     7            1           4   Greenpoint    4           3   \n",
       "\n",
       "  average_duration percent_subscriber trip_type  normalized_trip_num  \n",
       "0           1888.5     0.961538461538  outgoing             0.026971  \n",
       "1           524.25                1.0  outgoing             0.012448  \n",
       "2    852.222222222                1.0  outgoing             0.009336  \n",
       "3           563.25                1.0  outgoing             0.004149  \n",
       "4    470.333333333                1.0  outgoing             0.003112  "
      ]
     },
     "execution_count": 89,
     "metadata": {},
     "output_type": "execute_result"
    }
   ],
   "source": [
    "# add to the dataframe\n",
    "df_data_organized['normalized_trip_num'] = normalized_trip_num\n",
    "\n",
    "df_data_organized.head()"
   ]
  },
  {
   "cell_type": "markdown",
   "metadata": {},
   "source": [
    "### Label time by groups ###"
   ]
  },
  {
   "cell_type": "code",
   "execution_count": 109,
   "metadata": {
    "collapsed": true
   },
   "outputs": [],
   "source": [
    "# function to convert hours into groups\n",
    "# input: hours 0-24\n",
    "# output: new group\n",
    "\n",
    "def match(input_hour):\n",
    "    if input_hour < 6 or input_hour > 21:\n",
    "        output_hour = 'night'\n",
    "    elif input_hour < 8:\n",
    "        output_hour = '7'\n",
    "    elif input_hour < 9:\n",
    "        output_hour = '8'\n",
    "    elif input_hour < 10:\n",
    "        output_hour = '9'\n",
    "    elif input_hour < 17:\n",
    "        output_hour = '10-16'\n",
    "    elif input_hour < 18:\n",
    "        output_hour = '17'\n",
    "    elif input_hour < 19:\n",
    "        output_hour = '18'\n",
    "    elif input_hour < 20:\n",
    "        output_hour = '19'\n",
    "    elif input_hour < 21:\n",
    "        output_hour = '20'\n",
    "    else:\n",
    "        output_hour = '21'\n",
    "    \n",
    "    return (output_hour)"
   ]
  },
  {
   "cell_type": "code",
   "execution_count": 110,
   "metadata": {
    "collapsed": false
   },
   "outputs": [],
   "source": [
    "hours = df_data_organized['hour'].values.astype(int)\n",
    "hour_group = []\n",
    "\n",
    "for n in range(len(hours)):\n",
    "    group = match(hours[n])\n",
    "    hour_group.append(group)\n",
    "    \n",
    "hour_group = np.asarray(hour_group).reshape((len(hours), 1))\n",
    "\n",
    "# combined with the organized data\n",
    "df_data_organized['hour_group'] = hour_group"
   ]
  },
  {
   "cell_type": "code",
   "execution_count": 111,
   "metadata": {
    "collapsed": true
   },
   "outputs": [],
   "source": [
    "# save the data\n",
    "df_data_organized.to_csv(\"organized_data.csv\", sep = ',')"
   ]
  },
  {
   "cell_type": "markdown",
   "metadata": {},
   "source": [
    "### Add normalized imbalance ###\n",
    "normalized number of outgoing trips - normalized number of incoming trips "
   ]
  },
  {
   "cell_type": "code",
   "execution_count": 123,
   "metadata": {
    "collapsed": false
   },
   "outputs": [],
   "source": [
    "data_organized_2 = []\n",
    "# create labels\n",
    "labels = [\"month\", \"day_of_month\", \"day_of_week\", \"neighborhood\", \"hour\", \"normalized_imbalance\"]\n",
    "data_organized_2 = np.asarray(labels).reshape(1, 6)\n",
    "\n",
    "for month_num in df_data_organized['month'].unique():\n",
    "    # operate on data of this month\n",
    "    month_data = df_data_organized.loc[df_data_organized['month'] == month_num]\n",
    "    for day_num in month_data['day_of_month'].unique():\n",
    "        # operate on data of each day\n",
    "        day_data = month_data.loc[month_data['day_of_month'] == day_num]\n",
    "        weekday = day_data['day_of_week'].values[0]\n",
    "        # for each region\n",
    "        for region in day_data['neighborhood'].unique():\n",
    "            region_data = day_data.loc[day_data['neighborhood'] == region]\n",
    "            # compute for each hour\n",
    "            for hour in region_data['hour'].unique():\n",
    "                # prepare information of this piece of data\n",
    "                summary = []\n",
    "                summary.append(month_num)\n",
    "                summary.append(day_num)\n",
    "                summary.append(weekday)\n",
    "                summary.append(region)\n",
    "                summary.append(hour)\n",
    "                # target dataset\n",
    "                final_data = region_data.loc[region_data['hour'] == hour]\n",
    "                \n",
    "                # compute normalized imbalance\n",
    "                outgoing_data = final_data.loc[final_data['trip_type'] == 'outgoing']['normalized_trip_num'].values\n",
    "                if len(outgoing_data) > 0:\n",
    "                    outgoing = outgoing_data[0]\n",
    "                else:\n",
    "                    # set to 0 if no outgoing trips\n",
    "                    outgoing = 0\n",
    "                    \n",
    "                incoming_data = final_data.loc[final_data['trip_type'] == 'incoming']['normalized_trip_num'].values\n",
    "                if len(incoming_data) > 0:\n",
    "                    incoming = incoming_data[0]\n",
    "                else:\n",
    "                    # set to 0 if no incoming trips\n",
    "                    incoming = 0\n",
    "                \n",
    "                imbalance = outgoing - incoming\n",
    "                summary.append(imbalance)\n",
    "                \n",
    "                # append the list to a large array\n",
    "                summary = np.asarray(summary).reshape((1, 6))\n",
    "                data_organized_2 = np.concatenate((data_organized_2, summary), axis = 0)      "
   ]
  },
  {
   "cell_type": "code",
   "execution_count": 129,
   "metadata": {
    "collapsed": false
   },
   "outputs": [
    {
     "data": {
      "text/html": [
       "<div>\n",
       "<table border=\"1\" class=\"dataframe\">\n",
       "  <thead>\n",
       "    <tr style=\"text-align: right;\">\n",
       "      <th></th>\n",
       "      <th>month</th>\n",
       "      <th>day_of_month</th>\n",
       "      <th>day_of_week</th>\n",
       "      <th>neighborhood</th>\n",
       "      <th>hour</th>\n",
       "      <th>normalized_imbalance</th>\n",
       "      <th>hour_group</th>\n",
       "    </tr>\n",
       "  </thead>\n",
       "  <tbody>\n",
       "    <tr>\n",
       "      <th>0</th>\n",
       "      <td>7</td>\n",
       "      <td>1</td>\n",
       "      <td>4</td>\n",
       "      <td>Greenpoint</td>\n",
       "      <td>0</td>\n",
       "      <td>0.0</td>\n",
       "      <td>night</td>\n",
       "    </tr>\n",
       "    <tr>\n",
       "      <th>1</th>\n",
       "      <td>7</td>\n",
       "      <td>1</td>\n",
       "      <td>4</td>\n",
       "      <td>Greenpoint</td>\n",
       "      <td>1</td>\n",
       "      <td>-0.0134854771784</td>\n",
       "      <td>night</td>\n",
       "    </tr>\n",
       "    <tr>\n",
       "      <th>2</th>\n",
       "      <td>7</td>\n",
       "      <td>1</td>\n",
       "      <td>4</td>\n",
       "      <td>Greenpoint</td>\n",
       "      <td>2</td>\n",
       "      <td>0.00311203319502</td>\n",
       "      <td>night</td>\n",
       "    </tr>\n",
       "    <tr>\n",
       "      <th>3</th>\n",
       "      <td>7</td>\n",
       "      <td>1</td>\n",
       "      <td>4</td>\n",
       "      <td>Greenpoint</td>\n",
       "      <td>3</td>\n",
       "      <td>-0.00311203319502</td>\n",
       "      <td>night</td>\n",
       "    </tr>\n",
       "    <tr>\n",
       "      <th>4</th>\n",
       "      <td>7</td>\n",
       "      <td>1</td>\n",
       "      <td>4</td>\n",
       "      <td>Greenpoint</td>\n",
       "      <td>4</td>\n",
       "      <td>-0.0051867219917</td>\n",
       "      <td>night</td>\n",
       "    </tr>\n",
       "  </tbody>\n",
       "</table>\n",
       "</div>"
      ],
      "text/plain": [
       "  month day_of_month day_of_week neighborhood hour normalized_imbalance  \\\n",
       "0     7            1           4   Greenpoint    0                  0.0   \n",
       "1     7            1           4   Greenpoint    1     -0.0134854771784   \n",
       "2     7            1           4   Greenpoint    2     0.00311203319502   \n",
       "3     7            1           4   Greenpoint    3    -0.00311203319502   \n",
       "4     7            1           4   Greenpoint    4     -0.0051867219917   \n",
       "\n",
       "  hour_group  \n",
       "0      night  \n",
       "1      night  \n",
       "2      night  \n",
       "3      night  \n",
       "4      night  "
      ]
     },
     "execution_count": 129,
     "metadata": {},
     "output_type": "execute_result"
    }
   ],
   "source": [
    "# convert to dataframe\n",
    "df_data_organized_2 = pd.DataFrame(data_organized_2[1:, :], columns= data_organized_2[0, :])\n",
    "\n",
    "# add hour group\n",
    "hours = df_data_organized_2['hour'].values.astype(int)\n",
    "hour_group = []\n",
    "\n",
    "for n in range(len(hours)):\n",
    "    group = match(hours[n])\n",
    "    hour_group.append(group)\n",
    "    \n",
    "hour_group = np.asarray(hour_group).reshape((len(hours), 1))\n",
    "\n",
    "# combined with the organized data\n",
    "df_data_organized_2['hour_group'] = hour_group\n",
    "\n",
    "df_data_organized_2.head()"
   ]
  },
  {
   "cell_type": "code",
   "execution_count": 130,
   "metadata": {
    "collapsed": true
   },
   "outputs": [],
   "source": [
    "# save the data\n",
    "df_data_organized_2.to_csv(\"organized_data_2.csv\", sep = ',')"
   ]
  }
 ],
 "metadata": {
  "kernelspec": {
   "display_name": "Python [Root]",
   "language": "python",
   "name": "Python [Root]"
  },
  "language_info": {
   "codemirror_mode": {
    "name": "ipython",
    "version": 2
   },
   "file_extension": ".py",
   "mimetype": "text/x-python",
   "name": "python",
   "nbconvert_exporter": "python",
   "pygments_lexer": "ipython2",
   "version": "2.7.12"
  }
 },
 "nbformat": 4,
 "nbformat_minor": 0
}
